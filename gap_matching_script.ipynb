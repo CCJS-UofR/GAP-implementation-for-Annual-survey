{
 "cells": [
  {
   "cell_type": "markdown",
   "source": [
    "## GAP matching step\n",
    "in this script will read the RCMP Monday script's output and also the Moodle data.\n",
    "\n",
    "We match the dataframes and if there is any column in the Moodle data containing \"-GAP-\" will insert it (\"-GAP-\") in the corresponding cell in the output dataframe."
   ],
   "metadata": {
    "collapsed": false
   }
  },
  {
   "cell_type": "code",
   "execution_count": 3,
   "metadata": {
    "collapsed": true
   },
   "outputs": [],
   "source": [
    "import pandas as pd\n",
    "from datetime import date, datetime\n",
    "import tkinter as tk\n",
    "import tkinter.filedialog\n",
    "import os\n",
    "import ntpath\n",
    "import numpy as np\n"
   ]
  },
  {
   "cell_type": "code",
   "execution_count": 4,
   "outputs": [
    {
     "data": {
      "text/plain": "''"
     },
     "execution_count": 4,
     "metadata": {},
     "output_type": "execute_result"
    }
   ],
   "source": [
    "# tkinter setup\n",
    "\n",
    "root = tk.Tk()\n",
    "root.withdraw()  # used to hide tkinter window"
   ],
   "metadata": {
    "collapsed": false,
    "pycharm": {
     "name": "#%%\n"
    }
   }
  },
  {
   "cell_type": "code",
   "execution_count": 26,
   "outputs": [
    {
     "name": "stdout",
     "output_type": "stream",
     "text": [
      "You chose I:/Templates, Scripts, and documents/Report Scripts/RCMP/Monday Stats Report/January 23, 2023/January 23, 2023 Team 1A upload.csv\n"
     ]
    }
   ],
   "source": [
    "currdir = os.getcwd()\n",
    "script_output_file = tkinter.filedialog.askopenfilename(\n",
    "    parent=root, initialdir=currdir, title='Please choose the consent file collected from Moodle')\n",
    "if len(script_output_file) > 0:\n",
    "    print(\"You chose %s\" % script_output_file)\n",
    "\n",
    "\n",
    "df_scipt_output = pd.read_csv(f'{script_output_file}')"
   ],
   "metadata": {
    "collapsed": false,
    "pycharm": {
     "name": "#%%\n"
    }
   }
  },
  {
   "cell_type": "code",
   "execution_count": 7,
   "outputs": [
    {
     "name": "stdout",
     "output_type": "stream",
     "text": [
      "You chose C:/Users/sam070/Downloads/report_1674748594.xlsx\n"
     ]
    }
   ],
   "source": [
    "currdir = os.getcwd()\n",
    "moodle_file = tkinter.filedialog.askopenfilename(\n",
    "    parent=root, initialdir=currdir, title='Please choose the consent file collected from Moodle')\n",
    "if len(moodle_file) > 0:\n",
    "    print(\"You chose %s\" % moodle_file)\n",
    "\n",
    "\n",
    "df_moodle = pd.read_excel(f'{moodle_file}')"
   ],
   "metadata": {
    "collapsed": false,
    "pycharm": {
     "name": "#%%\n"
    }
   }
  },
  {
   "cell_type": "code",
   "execution_count": 25,
   "outputs": [
    {
     "data": {
      "text/plain": "       team   troop number participant number  number of daily surveys  \\\n10  Team 1A  Troop 3 19/20   r4ldjwnycxc7b86s                      NaN   \n\n   date of last daily  number of monthly surveys date of last monthly  \\\n10                NaN                        1.0            19-Jul-22   \n\n   time 1 - initial survey (text) time 1 - initial interview (scheduler)  \\\n10                    May 4, 2019                            May 4, 2019   \n\n   time 2 - pre-d survey (text)  ... date of last watch data upload  \\\n10                          NaN  ...               October 25, 2022   \n\n   signedcommconsent phone locked yes/no removed from study kit returned  \\\n10                No                  No                Yes          NaN   \n\n   kit return - phone kit return - watch kit return - bio byod consentstatus  \n10                Yes                Yes              NaN  NaN      Accepted  \n\n[1 rows x 33 columns]",
      "text/html": "<div>\n<style scoped>\n    .dataframe tbody tr th:only-of-type {\n        vertical-align: middle;\n    }\n\n    .dataframe tbody tr th {\n        vertical-align: top;\n    }\n\n    .dataframe thead th {\n        text-align: right;\n    }\n</style>\n<table border=\"1\" class=\"dataframe\">\n  <thead>\n    <tr style=\"text-align: right;\">\n      <th></th>\n      <th>team</th>\n      <th>troop number</th>\n      <th>participant number</th>\n      <th>number of daily surveys</th>\n      <th>date of last daily</th>\n      <th>number of monthly surveys</th>\n      <th>date of last monthly</th>\n      <th>time 1 - initial survey (text)</th>\n      <th>time 1 - initial interview (scheduler)</th>\n      <th>time 2 - pre-d survey (text)</th>\n      <th>...</th>\n      <th>date of last watch data upload</th>\n      <th>signedcommconsent</th>\n      <th>phone locked yes/no</th>\n      <th>removed from study</th>\n      <th>kit returned</th>\n      <th>kit return - phone</th>\n      <th>kit return - watch</th>\n      <th>kit return - bio</th>\n      <th>byod</th>\n      <th>consentstatus</th>\n    </tr>\n  </thead>\n  <tbody>\n    <tr>\n      <th>10</th>\n      <td>Team 1A</td>\n      <td>Troop 3 19/20</td>\n      <td>r4ldjwnycxc7b86s</td>\n      <td>NaN</td>\n      <td>NaN</td>\n      <td>1.0</td>\n      <td>19-Jul-22</td>\n      <td>May 4, 2019</td>\n      <td>May 4, 2019</td>\n      <td>NaN</td>\n      <td>...</td>\n      <td>October 25, 2022</td>\n      <td>No</td>\n      <td>No</td>\n      <td>Yes</td>\n      <td>NaN</td>\n      <td>Yes</td>\n      <td>Yes</td>\n      <td>NaN</td>\n      <td>NaN</td>\n      <td>Accepted</td>\n    </tr>\n  </tbody>\n</table>\n<p>1 rows × 33 columns</p>\n</div>"
     },
     "execution_count": 25,
     "metadata": {},
     "output_type": "execute_result"
    }
   ],
   "source": [
    "df_moodle.iloc[10:11].head(6)"
   ],
   "metadata": {
    "collapsed": false,
    "pycharm": {
     "name": "#%%\n"
    }
   }
  },
  {
   "cell_type": "code",
   "execution_count": 20,
   "outputs": [
    {
     "data": {
      "text/plain": "Index(['team', 'troop number', 'participant number', 'number of daily surveys',\n       'date of last daily', 'number of monthly surveys',\n       'date of last monthly', 'time 1 - initial survey (text)',\n       'time 1 - initial interview (scheduler)',\n       'time 2 - pre-d survey (text)', 'time 2 - pre-d interview (scheduler)',\n       'time - 3 annual survey (text)',\n       'time 3 - annual interview (scheduler)',\n       'time - 4 annual survey (text)',\n       'time 4 - annual interview (scheduler)',\n       'time - 5 annual survey (text)',\n       'time 5 - annual interview (scheduler)',\n       'time - 6 annual survey (text)',\n       'time 6 - annual interview (scheduler)',\n       'time - 7 annual survey (text)',\n       'time 7 - annual interview (scheduler)', 'number of lla recordings',\n       'date of last lla recording', 'date of last watch data upload',\n       'signedcommconsent', 'phone locked yes/no', 'removed from study',\n       'kit returned', 'kit return - phone', 'kit return - watch',\n       'kit return - bio', 'byod', 'consentstatus'],\n      dtype='object')"
     },
     "execution_count": 20,
     "metadata": {},
     "output_type": "execute_result"
    }
   ],
   "source": [
    "df_moodle.columns"
   ],
   "metadata": {
    "collapsed": false,
    "pycharm": {
     "name": "#%%\n"
    }
   }
  },
  {
   "cell_type": "code",
   "execution_count": 27,
   "outputs": [
    {
     "data": {
      "text/plain": "Index(['username', 'profile_field_numdailysurveys',\n       'profile_field_dateoflastdaily', 'profile_field_nummonthlysurveys',\n       'profile_field_dateoflastmonthly', 'profile_field_annualsurvey4',\n       'profile_field_annualsurvey5', 'profile_field_llarecordingnumber',\n       'profile_field_llarecordingdate'],\n      dtype='object')"
     },
     "execution_count": 27,
     "metadata": {},
     "output_type": "execute_result"
    }
   ],
   "source": [
    "df_scipt_output.columns"
   ],
   "metadata": {
    "collapsed": false,
    "pycharm": {
     "name": "#%%\n"
    }
   }
  },
  {
   "cell_type": "code",
   "execution_count": 28,
   "outputs": [
    {
     "name": "stdout",
     "output_type": "stream",
     "text": [
      " number of records for script output (344, 9)\n",
      " number of records for moodle (1327, 33)\n"
     ]
    }
   ],
   "source": [
    "print(f\" number of records for script output {df_scipt_output.shape}\")\n",
    "print(f\" number of records for moodle {df_moodle.shape}\")"
   ],
   "metadata": {
    "collapsed": false,
    "pycharm": {
     "name": "#%%\n"
    }
   }
  },
  {
   "cell_type": "code",
   "execution_count": 35,
   "outputs": [
    {
     "data": {
      "text/plain": "                       team    troop number  number of daily surveys  \\\nparticipant number                                                     \n052lboquuyant5k2    Team 1A   Troop 6 19/20                     19.0   \n07h8s4gmeax62v4d    Team 1A  Troop 20 19/20                     11.0   \n07hvb87xv6dniduu    Team 1A  Troop 11 19/20                   1184.0   \n0bjy7tb7al5tylsh    Team 1A  Troop 19 19/20                     26.0   \n0gwy0v64f89pidga    Team 1A  Troop 17 19/20                     19.0   \n...                     ...             ...                      ...   \nzp2do0f02to8apot    Team 1A  Troop 18 19/20                      3.0   \nzqji9ek3y7w0x42h    Team 1A  Troop 17 19/20                     51.0   \nzqoqy6ibmdep03i8    Team 1A   Troop 8 19/20                    333.0   \nzslwtamo7ksu62up    Team 1A  Troop 18 19/20                     17.0   \nr4ldjwnycxc7b86s    Team 1A   Troop 3 19/20                      NaN   \n\n                   date of last daily  number of monthly surveys  \\\nparticipant number                                                 \n052lboquuyant5k2            03-Mar-20                        3.0   \n07h8s4gmeax62v4d            08-Mar-20                        7.0   \n07hvb87xv6dniduu            23-Jan-23                       30.0   \n0bjy7tb7al5tylsh            01-Nov-20                        1.0   \n0gwy0v64f89pidga            08-May-20                        2.0   \n...                               ...                        ...   \nzp2do0f02to8apot            08-Sep-19                        NaN   \nzqji9ek3y7w0x42h            05-Apr-20                        1.0   \nzqoqy6ibmdep03i8            14-Dec-21                       14.0   \nzslwtamo7ksu62up            14-Jan-20                        NaN   \nr4ldjwnycxc7b86s                  NaN                        1.0   \n\n                   date of last monthly time 1 - initial survey (text)  \\\nparticipant number                                                       \n052lboquuyant5k2              13-Feb-20                            NaN   \n07h8s4gmeax62v4d              27-Feb-20                 August 3, 2019   \n07hvb87xv6dniduu              03-Jan-23                   July 6, 2019   \n0bjy7tb7al5tylsh              22-Feb-20             September 14, 2019   \n0gwy0v64f89pidga              04-Feb-20                August 24, 2019   \n...                                 ...                            ...   \nzp2do0f02to8apot                    NaN              September 7, 2019   \nzqji9ek3y7w0x42h              04-Feb-20                August 25, 2019   \nzqoqy6ibmdep03i8              20-Oct-21                   June 8, 2019   \nzslwtamo7ksu62up                    NaN             September 14, 2019   \nr4ldjwnycxc7b86s              19-Jul-22                    May 4, 2019   \n\n                   time 1 - initial interview (scheduler)  \\\nparticipant number                                          \n052lboquuyant5k2                                      NaN   \n07h8s4gmeax62v4d                          August 10, 2019   \n07hvb87xv6dniduu                            July 14, 2019   \n0bjy7tb7al5tylsh                       September 22, 2019   \n0gwy0v64f89pidga                          August 31, 2019   \n...                                                   ...   \nzp2do0f02to8apot                                      NaN   \nzqji9ek3y7w0x42h                        September 1, 2019   \nzqoqy6ibmdep03i8                            June 15, 2019   \nzslwtamo7ksu62up                       September 21, 2019   \nr4ldjwnycxc7b86s                              May 4, 2019   \n\n                   time 2 - pre-d survey (text)  \\\nparticipant number                                \n052lboquuyant5k2                            NaN   \n07h8s4gmeax62v4d                  March 7, 2020   \n07hvb87xv6dniduu              December 15, 2019   \n0bjy7tb7al5tylsh              February 26, 2020   \n0gwy0v64f89pidga              February 22, 2020   \n...                                         ...   \nzp2do0f02to8apot                            NaN   \nzqji9ek3y7w0x42h                            NaN   \nzqoqy6ibmdep03i8              November 30, 2019   \nzslwtamo7ksu62up              February 19, 2020   \nr4ldjwnycxc7b86s                            NaN   \n\n                   time 2 - pre-d interview (scheduler)  ...  \\\nparticipant number                                       ...   \n052lboquuyant5k2                       October 28, 2019  ...   \n07h8s4gmeax62v4d                          March 7, 2020  ...   \n07hvb87xv6dniduu                      December 15, 2019  ...   \n0bjy7tb7al5tylsh                      February 29, 2020  ...   \n0gwy0v64f89pidga                       January 19, 2020  ...   \n...                                                 ...  ...   \nzp2do0f02to8apot                                    NaN  ...   \nzqji9ek3y7w0x42h                       January 18, 2020  ...   \nzqoqy6ibmdep03i8                      November 30, 2019  ...   \nzslwtamo7ksu62up                      February 22, 2020  ...   \nr4ldjwnycxc7b86s                                    NaN  ...   \n\n                   date of last watch data upload signedcommconsent  \\\nparticipant number                                                    \n052lboquuyant5k2                              NaN                No   \n07h8s4gmeax62v4d                              NaN                No   \n07hvb87xv6dniduu                  January 1, 2023                No   \n0bjy7tb7al5tylsh                              NaN                No   \n0gwy0v64f89pidga                              NaN                No   \n...                                           ...               ...   \nzp2do0f02to8apot                              NaN                No   \nzqji9ek3y7w0x42h                              NaN                No   \nzqoqy6ibmdep03i8                December 15, 2021                No   \nzslwtamo7ksu62up                              NaN                No   \nr4ldjwnycxc7b86s                 October 25, 2022                No   \n\n                   phone locked yes/no removed from study kit returned  \\\nparticipant number                                                       \n052lboquuyant5k2                    No                Yes          NaN   \n07h8s4gmeax62v4d                   Yes                Yes          NaN   \n07hvb87xv6dniduu                    No                 No          NaN   \n0bjy7tb7al5tylsh                   Yes                 No          NaN   \n0gwy0v64f89pidga                   Yes                 No          NaN   \n...                                ...                ...          ...   \nzp2do0f02to8apot                    No                Yes          NaN   \nzqji9ek3y7w0x42h                   Yes                 No          NaN   \nzqoqy6ibmdep03i8                   Yes                 No          NaN   \nzslwtamo7ksu62up                    No                 No          NaN   \nr4ldjwnycxc7b86s                    No                Yes          NaN   \n\n                   kit return - phone kit return - watch kit return - bio  \\\nparticipant number                                                          \n052lboquuyant5k2                   No                 No              Yes   \n07h8s4gmeax62v4d                   No                 No              NaN   \n07hvb87xv6dniduu                   No                 No               No   \n0bjy7tb7al5tylsh                   No                 No              NaN   \n0gwy0v64f89pidga                   No                 No              NaN   \n...                               ...                ...              ...   \nzp2do0f02to8apot                  Yes                Yes              NaN   \nzqji9ek3y7w0x42h                   No                 No              NaN   \nzqoqy6ibmdep03i8                   No                 No              NaN   \nzslwtamo7ksu62up                   No                 No               No   \nr4ldjwnycxc7b86s                  Yes                Yes              NaN   \n\n                   byod consentstatus  \nparticipant number                     \n052lboquuyant5k2    NaN      Accepted  \n07h8s4gmeax62v4d    NaN      Accepted  \n07hvb87xv6dniduu     No      Accepted  \n0bjy7tb7al5tylsh    NaN      Accepted  \n0gwy0v64f89pidga    NaN      Accepted  \n...                 ...           ...  \nzp2do0f02to8apot    NaN      Accepted  \nzqji9ek3y7w0x42h    NaN      Accepted  \nzqoqy6ibmdep03i8    NaN      Accepted  \nzslwtamo7ksu62up    NaN      Accepted  \nr4ldjwnycxc7b86s    NaN      Accepted  \n\n[344 rows x 32 columns]",
      "text/html": "<div>\n<style scoped>\n    .dataframe tbody tr th:only-of-type {\n        vertical-align: middle;\n    }\n\n    .dataframe tbody tr th {\n        vertical-align: top;\n    }\n\n    .dataframe thead th {\n        text-align: right;\n    }\n</style>\n<table border=\"1\" class=\"dataframe\">\n  <thead>\n    <tr style=\"text-align: right;\">\n      <th></th>\n      <th>team</th>\n      <th>troop number</th>\n      <th>number of daily surveys</th>\n      <th>date of last daily</th>\n      <th>number of monthly surveys</th>\n      <th>date of last monthly</th>\n      <th>time 1 - initial survey (text)</th>\n      <th>time 1 - initial interview (scheduler)</th>\n      <th>time 2 - pre-d survey (text)</th>\n      <th>time 2 - pre-d interview (scheduler)</th>\n      <th>...</th>\n      <th>date of last watch data upload</th>\n      <th>signedcommconsent</th>\n      <th>phone locked yes/no</th>\n      <th>removed from study</th>\n      <th>kit returned</th>\n      <th>kit return - phone</th>\n      <th>kit return - watch</th>\n      <th>kit return - bio</th>\n      <th>byod</th>\n      <th>consentstatus</th>\n    </tr>\n    <tr>\n      <th>participant number</th>\n      <th></th>\n      <th></th>\n      <th></th>\n      <th></th>\n      <th></th>\n      <th></th>\n      <th></th>\n      <th></th>\n      <th></th>\n      <th></th>\n      <th></th>\n      <th></th>\n      <th></th>\n      <th></th>\n      <th></th>\n      <th></th>\n      <th></th>\n      <th></th>\n      <th></th>\n      <th></th>\n      <th></th>\n    </tr>\n  </thead>\n  <tbody>\n    <tr>\n      <th>052lboquuyant5k2</th>\n      <td>Team 1A</td>\n      <td>Troop 6 19/20</td>\n      <td>19.0</td>\n      <td>03-Mar-20</td>\n      <td>3.0</td>\n      <td>13-Feb-20</td>\n      <td>NaN</td>\n      <td>NaN</td>\n      <td>NaN</td>\n      <td>October 28, 2019</td>\n      <td>...</td>\n      <td>NaN</td>\n      <td>No</td>\n      <td>No</td>\n      <td>Yes</td>\n      <td>NaN</td>\n      <td>No</td>\n      <td>No</td>\n      <td>Yes</td>\n      <td>NaN</td>\n      <td>Accepted</td>\n    </tr>\n    <tr>\n      <th>07h8s4gmeax62v4d</th>\n      <td>Team 1A</td>\n      <td>Troop 20 19/20</td>\n      <td>11.0</td>\n      <td>08-Mar-20</td>\n      <td>7.0</td>\n      <td>27-Feb-20</td>\n      <td>August 3, 2019</td>\n      <td>August 10, 2019</td>\n      <td>March 7, 2020</td>\n      <td>March 7, 2020</td>\n      <td>...</td>\n      <td>NaN</td>\n      <td>No</td>\n      <td>Yes</td>\n      <td>Yes</td>\n      <td>NaN</td>\n      <td>No</td>\n      <td>No</td>\n      <td>NaN</td>\n      <td>NaN</td>\n      <td>Accepted</td>\n    </tr>\n    <tr>\n      <th>07hvb87xv6dniduu</th>\n      <td>Team 1A</td>\n      <td>Troop 11 19/20</td>\n      <td>1184.0</td>\n      <td>23-Jan-23</td>\n      <td>30.0</td>\n      <td>03-Jan-23</td>\n      <td>July 6, 2019</td>\n      <td>July 14, 2019</td>\n      <td>December 15, 2019</td>\n      <td>December 15, 2019</td>\n      <td>...</td>\n      <td>January 1, 2023</td>\n      <td>No</td>\n      <td>No</td>\n      <td>No</td>\n      <td>NaN</td>\n      <td>No</td>\n      <td>No</td>\n      <td>No</td>\n      <td>No</td>\n      <td>Accepted</td>\n    </tr>\n    <tr>\n      <th>0bjy7tb7al5tylsh</th>\n      <td>Team 1A</td>\n      <td>Troop 19 19/20</td>\n      <td>26.0</td>\n      <td>01-Nov-20</td>\n      <td>1.0</td>\n      <td>22-Feb-20</td>\n      <td>September 14, 2019</td>\n      <td>September 22, 2019</td>\n      <td>February 26, 2020</td>\n      <td>February 29, 2020</td>\n      <td>...</td>\n      <td>NaN</td>\n      <td>No</td>\n      <td>Yes</td>\n      <td>No</td>\n      <td>NaN</td>\n      <td>No</td>\n      <td>No</td>\n      <td>NaN</td>\n      <td>NaN</td>\n      <td>Accepted</td>\n    </tr>\n    <tr>\n      <th>0gwy0v64f89pidga</th>\n      <td>Team 1A</td>\n      <td>Troop 17 19/20</td>\n      <td>19.0</td>\n      <td>08-May-20</td>\n      <td>2.0</td>\n      <td>04-Feb-20</td>\n      <td>August 24, 2019</td>\n      <td>August 31, 2019</td>\n      <td>February 22, 2020</td>\n      <td>January 19, 2020</td>\n      <td>...</td>\n      <td>NaN</td>\n      <td>No</td>\n      <td>Yes</td>\n      <td>No</td>\n      <td>NaN</td>\n      <td>No</td>\n      <td>No</td>\n      <td>NaN</td>\n      <td>NaN</td>\n      <td>Accepted</td>\n    </tr>\n    <tr>\n      <th>...</th>\n      <td>...</td>\n      <td>...</td>\n      <td>...</td>\n      <td>...</td>\n      <td>...</td>\n      <td>...</td>\n      <td>...</td>\n      <td>...</td>\n      <td>...</td>\n      <td>...</td>\n      <td>...</td>\n      <td>...</td>\n      <td>...</td>\n      <td>...</td>\n      <td>...</td>\n      <td>...</td>\n      <td>...</td>\n      <td>...</td>\n      <td>...</td>\n      <td>...</td>\n      <td>...</td>\n    </tr>\n    <tr>\n      <th>zp2do0f02to8apot</th>\n      <td>Team 1A</td>\n      <td>Troop 18 19/20</td>\n      <td>3.0</td>\n      <td>08-Sep-19</td>\n      <td>NaN</td>\n      <td>NaN</td>\n      <td>September 7, 2019</td>\n      <td>NaN</td>\n      <td>NaN</td>\n      <td>NaN</td>\n      <td>...</td>\n      <td>NaN</td>\n      <td>No</td>\n      <td>No</td>\n      <td>Yes</td>\n      <td>NaN</td>\n      <td>Yes</td>\n      <td>Yes</td>\n      <td>NaN</td>\n      <td>NaN</td>\n      <td>Accepted</td>\n    </tr>\n    <tr>\n      <th>zqji9ek3y7w0x42h</th>\n      <td>Team 1A</td>\n      <td>Troop 17 19/20</td>\n      <td>51.0</td>\n      <td>05-Apr-20</td>\n      <td>1.0</td>\n      <td>04-Feb-20</td>\n      <td>August 25, 2019</td>\n      <td>September 1, 2019</td>\n      <td>NaN</td>\n      <td>January 18, 2020</td>\n      <td>...</td>\n      <td>NaN</td>\n      <td>No</td>\n      <td>Yes</td>\n      <td>No</td>\n      <td>NaN</td>\n      <td>No</td>\n      <td>No</td>\n      <td>NaN</td>\n      <td>NaN</td>\n      <td>Accepted</td>\n    </tr>\n    <tr>\n      <th>zqoqy6ibmdep03i8</th>\n      <td>Team 1A</td>\n      <td>Troop 8 19/20</td>\n      <td>333.0</td>\n      <td>14-Dec-21</td>\n      <td>14.0</td>\n      <td>20-Oct-21</td>\n      <td>June 8, 2019</td>\n      <td>June 15, 2019</td>\n      <td>November 30, 2019</td>\n      <td>November 30, 2019</td>\n      <td>...</td>\n      <td>December 15, 2021</td>\n      <td>No</td>\n      <td>Yes</td>\n      <td>No</td>\n      <td>NaN</td>\n      <td>No</td>\n      <td>No</td>\n      <td>NaN</td>\n      <td>NaN</td>\n      <td>Accepted</td>\n    </tr>\n    <tr>\n      <th>zslwtamo7ksu62up</th>\n      <td>Team 1A</td>\n      <td>Troop 18 19/20</td>\n      <td>17.0</td>\n      <td>14-Jan-20</td>\n      <td>NaN</td>\n      <td>NaN</td>\n      <td>September 14, 2019</td>\n      <td>September 21, 2019</td>\n      <td>February 19, 2020</td>\n      <td>February 22, 2020</td>\n      <td>...</td>\n      <td>NaN</td>\n      <td>No</td>\n      <td>No</td>\n      <td>No</td>\n      <td>NaN</td>\n      <td>No</td>\n      <td>No</td>\n      <td>No</td>\n      <td>NaN</td>\n      <td>Accepted</td>\n    </tr>\n    <tr>\n      <th>r4ldjwnycxc7b86s</th>\n      <td>Team 1A</td>\n      <td>Troop 3 19/20</td>\n      <td>NaN</td>\n      <td>NaN</td>\n      <td>1.0</td>\n      <td>19-Jul-22</td>\n      <td>May 4, 2019</td>\n      <td>May 4, 2019</td>\n      <td>NaN</td>\n      <td>NaN</td>\n      <td>...</td>\n      <td>October 25, 2022</td>\n      <td>No</td>\n      <td>No</td>\n      <td>Yes</td>\n      <td>NaN</td>\n      <td>Yes</td>\n      <td>Yes</td>\n      <td>NaN</td>\n      <td>NaN</td>\n      <td>Accepted</td>\n    </tr>\n  </tbody>\n</table>\n<p>344 rows × 32 columns</p>\n</div>"
     },
     "execution_count": 35,
     "metadata": {},
     "output_type": "execute_result"
    }
   ],
   "source": [
    "df_moodle.set_index(\"participant number\").loc[df_scipt_output.username]"
   ],
   "metadata": {
    "collapsed": false,
    "pycharm": {
     "name": "#%%\n"
    }
   }
  },
  {
   "cell_type": "code",
   "execution_count": 32,
   "outputs": [
    {
     "data": {
      "text/plain": "       team troop number participant number  number of daily surveys  \\\n0       NaN          NaN            awalker                      1.0   \n1     Staff          NaN           shubhams                      1.0   \n2     Staff   Troop Test           cbeckett                      NaN   \n3       NaN          NaN           testuser                      NaN   \n4       NaN          NaN         cliniciana                      NaN   \n...     ...          ...                ...                      ...   \n1322    NaN          NaN         clinicianr                      NaN   \n1323    NaN          NaN         clinicians                      NaN   \n1324    NaN          NaN     ethinktestuser                      NaN   \n1325    NaN          NaN         cliniciant                      NaN   \n1326    NaN          NaN         clinicianu                      NaN   \n\n     date of last daily  number of monthly surveys date of last monthly  \\\n0     September 4, 2019                        NaN                  NaN   \n1        April 15, 2020                        NaN                  NaN   \n2                   NaN                        NaN                  NaN   \n3                   NaN                        NaN                  NaN   \n4                   NaN                        NaN                  NaN   \n...                 ...                        ...                  ...   \n1322                NaN                        NaN                  NaN   \n1323                NaN                        NaN                  NaN   \n1324                NaN                        NaN                  NaN   \n1325                NaN                        NaN                  NaN   \n1326                NaN                        NaN                  NaN   \n\n     time 1 - initial survey (text) time 1 - initial interview (scheduler)  \\\n0                               NaN                                    NaN   \n1                               NaN                                    NaN   \n2                               NaN                                    NaN   \n3                               NaN                                    NaN   \n4                               NaN                                    NaN   \n...                             ...                                    ...   \n1322                            NaN                                    NaN   \n1323                            NaN                                    NaN   \n1324                            NaN                                    NaN   \n1325                            NaN                                    NaN   \n1326                            NaN                                    NaN   \n\n     time 2 - pre-d survey (text)  ... date of last watch data upload  \\\n0                             NaN  ...                            NaN   \n1                             NaN  ...                            NaN   \n2                             NaN  ...                            NaN   \n3                             NaN  ...                            NaN   \n4                             NaN  ...                            NaN   \n...                           ...  ...                            ...   \n1322                          NaN  ...                            NaN   \n1323                          NaN  ...                            NaN   \n1324                          NaN  ...                            NaN   \n1325                          NaN  ...                            NaN   \n1326                          NaN  ...                            NaN   \n\n     signedcommconsent phone locked yes/no removed from study kit returned  \\\n0                   No                  No                 No          NaN   \n1                   No                  No                 No          NaN   \n2                   No                  No                 No          NaN   \n3                   No                  No                 No          NaN   \n4                  NaN                 NaN                NaN          NaN   \n...                ...                 ...                ...          ...   \n1322                No                 NaN                 No          NaN   \n1323                No                 NaN                 No          NaN   \n1324                No                 NaN                 No          NaN   \n1325                No                 NaN                 No          NaN   \n1326                No                 NaN                 No          NaN   \n\n     kit return - phone kit return - watch kit return - bio byod consentstatus  \n0                   NaN                NaN              NaN  NaN      Accepted  \n1                   NaN                NaN              NaN  NaN      Accepted  \n2                   NaN                NaN              NaN  NaN      Accepted  \n3                   NaN                NaN              NaN  NaN      Accepted  \n4                   NaN                NaN              NaN  NaN      Accepted  \n...                 ...                ...              ...  ...           ...  \n1322                NaN                NaN              NaN   No      Accepted  \n1323                NaN                NaN              NaN   No      Accepted  \n1324                NaN                NaN              NaN   No      Accepted  \n1325                NaN                NaN              NaN   No      Accepted  \n1326                NaN                NaN              NaN   No      Accepted  \n\n[1327 rows x 33 columns]",
      "text/html": "<div>\n<style scoped>\n    .dataframe tbody tr th:only-of-type {\n        vertical-align: middle;\n    }\n\n    .dataframe tbody tr th {\n        vertical-align: top;\n    }\n\n    .dataframe thead th {\n        text-align: right;\n    }\n</style>\n<table border=\"1\" class=\"dataframe\">\n  <thead>\n    <tr style=\"text-align: right;\">\n      <th></th>\n      <th>team</th>\n      <th>troop number</th>\n      <th>participant number</th>\n      <th>number of daily surveys</th>\n      <th>date of last daily</th>\n      <th>number of monthly surveys</th>\n      <th>date of last monthly</th>\n      <th>time 1 - initial survey (text)</th>\n      <th>time 1 - initial interview (scheduler)</th>\n      <th>time 2 - pre-d survey (text)</th>\n      <th>...</th>\n      <th>date of last watch data upload</th>\n      <th>signedcommconsent</th>\n      <th>phone locked yes/no</th>\n      <th>removed from study</th>\n      <th>kit returned</th>\n      <th>kit return - phone</th>\n      <th>kit return - watch</th>\n      <th>kit return - bio</th>\n      <th>byod</th>\n      <th>consentstatus</th>\n    </tr>\n  </thead>\n  <tbody>\n    <tr>\n      <th>0</th>\n      <td>NaN</td>\n      <td>NaN</td>\n      <td>awalker</td>\n      <td>1.0</td>\n      <td>September 4, 2019</td>\n      <td>NaN</td>\n      <td>NaN</td>\n      <td>NaN</td>\n      <td>NaN</td>\n      <td>NaN</td>\n      <td>...</td>\n      <td>NaN</td>\n      <td>No</td>\n      <td>No</td>\n      <td>No</td>\n      <td>NaN</td>\n      <td>NaN</td>\n      <td>NaN</td>\n      <td>NaN</td>\n      <td>NaN</td>\n      <td>Accepted</td>\n    </tr>\n    <tr>\n      <th>1</th>\n      <td>Staff</td>\n      <td>NaN</td>\n      <td>shubhams</td>\n      <td>1.0</td>\n      <td>April 15, 2020</td>\n      <td>NaN</td>\n      <td>NaN</td>\n      <td>NaN</td>\n      <td>NaN</td>\n      <td>NaN</td>\n      <td>...</td>\n      <td>NaN</td>\n      <td>No</td>\n      <td>No</td>\n      <td>No</td>\n      <td>NaN</td>\n      <td>NaN</td>\n      <td>NaN</td>\n      <td>NaN</td>\n      <td>NaN</td>\n      <td>Accepted</td>\n    </tr>\n    <tr>\n      <th>2</th>\n      <td>Staff</td>\n      <td>Troop Test</td>\n      <td>cbeckett</td>\n      <td>NaN</td>\n      <td>NaN</td>\n      <td>NaN</td>\n      <td>NaN</td>\n      <td>NaN</td>\n      <td>NaN</td>\n      <td>NaN</td>\n      <td>...</td>\n      <td>NaN</td>\n      <td>No</td>\n      <td>No</td>\n      <td>No</td>\n      <td>NaN</td>\n      <td>NaN</td>\n      <td>NaN</td>\n      <td>NaN</td>\n      <td>NaN</td>\n      <td>Accepted</td>\n    </tr>\n    <tr>\n      <th>3</th>\n      <td>NaN</td>\n      <td>NaN</td>\n      <td>testuser</td>\n      <td>NaN</td>\n      <td>NaN</td>\n      <td>NaN</td>\n      <td>NaN</td>\n      <td>NaN</td>\n      <td>NaN</td>\n      <td>NaN</td>\n      <td>...</td>\n      <td>NaN</td>\n      <td>No</td>\n      <td>No</td>\n      <td>No</td>\n      <td>NaN</td>\n      <td>NaN</td>\n      <td>NaN</td>\n      <td>NaN</td>\n      <td>NaN</td>\n      <td>Accepted</td>\n    </tr>\n    <tr>\n      <th>4</th>\n      <td>NaN</td>\n      <td>NaN</td>\n      <td>cliniciana</td>\n      <td>NaN</td>\n      <td>NaN</td>\n      <td>NaN</td>\n      <td>NaN</td>\n      <td>NaN</td>\n      <td>NaN</td>\n      <td>NaN</td>\n      <td>...</td>\n      <td>NaN</td>\n      <td>NaN</td>\n      <td>NaN</td>\n      <td>NaN</td>\n      <td>NaN</td>\n      <td>NaN</td>\n      <td>NaN</td>\n      <td>NaN</td>\n      <td>NaN</td>\n      <td>Accepted</td>\n    </tr>\n    <tr>\n      <th>...</th>\n      <td>...</td>\n      <td>...</td>\n      <td>...</td>\n      <td>...</td>\n      <td>...</td>\n      <td>...</td>\n      <td>...</td>\n      <td>...</td>\n      <td>...</td>\n      <td>...</td>\n      <td>...</td>\n      <td>...</td>\n      <td>...</td>\n      <td>...</td>\n      <td>...</td>\n      <td>...</td>\n      <td>...</td>\n      <td>...</td>\n      <td>...</td>\n      <td>...</td>\n      <td>...</td>\n    </tr>\n    <tr>\n      <th>1322</th>\n      <td>NaN</td>\n      <td>NaN</td>\n      <td>clinicianr</td>\n      <td>NaN</td>\n      <td>NaN</td>\n      <td>NaN</td>\n      <td>NaN</td>\n      <td>NaN</td>\n      <td>NaN</td>\n      <td>NaN</td>\n      <td>...</td>\n      <td>NaN</td>\n      <td>No</td>\n      <td>NaN</td>\n      <td>No</td>\n      <td>NaN</td>\n      <td>NaN</td>\n      <td>NaN</td>\n      <td>NaN</td>\n      <td>No</td>\n      <td>Accepted</td>\n    </tr>\n    <tr>\n      <th>1323</th>\n      <td>NaN</td>\n      <td>NaN</td>\n      <td>clinicians</td>\n      <td>NaN</td>\n      <td>NaN</td>\n      <td>NaN</td>\n      <td>NaN</td>\n      <td>NaN</td>\n      <td>NaN</td>\n      <td>NaN</td>\n      <td>...</td>\n      <td>NaN</td>\n      <td>No</td>\n      <td>NaN</td>\n      <td>No</td>\n      <td>NaN</td>\n      <td>NaN</td>\n      <td>NaN</td>\n      <td>NaN</td>\n      <td>No</td>\n      <td>Accepted</td>\n    </tr>\n    <tr>\n      <th>1324</th>\n      <td>NaN</td>\n      <td>NaN</td>\n      <td>ethinktestuser</td>\n      <td>NaN</td>\n      <td>NaN</td>\n      <td>NaN</td>\n      <td>NaN</td>\n      <td>NaN</td>\n      <td>NaN</td>\n      <td>NaN</td>\n      <td>...</td>\n      <td>NaN</td>\n      <td>No</td>\n      <td>NaN</td>\n      <td>No</td>\n      <td>NaN</td>\n      <td>NaN</td>\n      <td>NaN</td>\n      <td>NaN</td>\n      <td>No</td>\n      <td>Accepted</td>\n    </tr>\n    <tr>\n      <th>1325</th>\n      <td>NaN</td>\n      <td>NaN</td>\n      <td>cliniciant</td>\n      <td>NaN</td>\n      <td>NaN</td>\n      <td>NaN</td>\n      <td>NaN</td>\n      <td>NaN</td>\n      <td>NaN</td>\n      <td>NaN</td>\n      <td>...</td>\n      <td>NaN</td>\n      <td>No</td>\n      <td>NaN</td>\n      <td>No</td>\n      <td>NaN</td>\n      <td>NaN</td>\n      <td>NaN</td>\n      <td>NaN</td>\n      <td>No</td>\n      <td>Accepted</td>\n    </tr>\n    <tr>\n      <th>1326</th>\n      <td>NaN</td>\n      <td>NaN</td>\n      <td>clinicianu</td>\n      <td>NaN</td>\n      <td>NaN</td>\n      <td>NaN</td>\n      <td>NaN</td>\n      <td>NaN</td>\n      <td>NaN</td>\n      <td>NaN</td>\n      <td>...</td>\n      <td>NaN</td>\n      <td>No</td>\n      <td>NaN</td>\n      <td>No</td>\n      <td>NaN</td>\n      <td>NaN</td>\n      <td>NaN</td>\n      <td>NaN</td>\n      <td>No</td>\n      <td>Accepted</td>\n    </tr>\n  </tbody>\n</table>\n<p>1327 rows × 33 columns</p>\n</div>"
     },
     "execution_count": 32,
     "metadata": {},
     "output_type": "execute_result"
    }
   ],
   "source": [
    "df_moodle"
   ],
   "metadata": {
    "collapsed": false,
    "pycharm": {
     "name": "#%%\n"
    }
   }
  },
  {
   "cell_type": "code",
   "execution_count": null,
   "outputs": [],
   "source": [
    "col_names = {'username':'participant number','profile_field_annualsurvey4':'time - 4 annual survey (text)',\n",
    "             'profile_field_annualsurvey5':'time - 5 annual survey (text)'     }\n",
    "\n"
   ],
   "metadata": {
    "collapsed": false,
    "pycharm": {
     "name": "#%%\n"
    }
   }
  },
  {
   "cell_type": "markdown",
   "source": [
    "## conditon\n",
    "\n",
    "for the interview use the moodle data\n",
    "\n",
    "for the survey will use the script and combine the GAP and dates"
   ],
   "metadata": {
    "collapsed": false
   }
  }
 ],
 "metadata": {
  "kernelspec": {
   "display_name": "Python 3",
   "language": "python",
   "name": "python3"
  },
  "language_info": {
   "codemirror_mode": {
    "name": "ipython",
    "version": 2
   },
   "file_extension": ".py",
   "mimetype": "text/x-python",
   "name": "python",
   "nbconvert_exporter": "python",
   "pygments_lexer": "ipython2",
   "version": "2.7.6"
  }
 },
 "nbformat": 4,
 "nbformat_minor": 0
}